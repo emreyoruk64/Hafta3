{
 "cells": [
  {
   "cell_type": "code",
   "execution_count": 1,
   "id": "e2a80e08-af47-4dc3-b483-ae18d25dba01",
   "metadata": {},
   "outputs": [],
   "source": [
    "import cv2 as cv\n",
    "import numpy as np"
   ]
  },
  {
   "cell_type": "code",
   "execution_count": 2,
   "id": "7d645796-bdc0-4d4f-b588-5c818cf401be",
   "metadata": {},
   "outputs": [],
   "source": [
    "img=cv.imread(\"park.jpg\")"
   ]
  },
  {
   "cell_type": "code",
   "execution_count": 3,
   "id": "aa3035d3-21da-4473-9a82-c4315399ad95",
   "metadata": {},
   "outputs": [],
   "source": [
    "cv.imshow(\"Park\",img)"
   ]
  },
  {
   "cell_type": "code",
   "execution_count": 4,
   "id": "d8c59b93-e055-43bb-b653-6047ddd3d4bb",
   "metadata": {},
   "outputs": [],
   "source": [
    "# Gri tonlama\n",
    "gray=cv.cvtColor(img,cv.COLOR_BGR2GRAY)\n",
    "cv.imshow(\"Gray\",gray)"
   ]
  },
  {
   "cell_type": "code",
   "execution_count": 5,
   "id": "9b399fe7-3320-4263-9a1b-ac798ebb409f",
   "metadata": {},
   "outputs": [],
   "source": [
    "# Yeniden boyutlandırma\n",
    "resized=cv.resize(img,(500,500),interpolation=cv.INTER_CUBIC)\n",
    "cv.imshow(\"Resized\",resized)"
   ]
  },
  {
   "cell_type": "code",
   "execution_count": 6,
   "id": "dc27871f-bf16-4549-85c2-96f0763026a0",
   "metadata": {},
   "outputs": [],
   "source": [
    "# Döndürme\n",
    "flip=cv.flip(img,0)\n",
    "cv.imshow(\"Flip\",flip)"
   ]
  },
  {
   "cell_type": "code",
   "execution_count": 7,
   "id": "d2a2137a-5b40-4c89-9450-0dfc418166a2",
   "metadata": {},
   "outputs": [],
   "source": [
    "# Dikdörtgen ekleme\n",
    "cv.rectangle(img,(0,0),(250,500),(0,255,0),thickness=2)\n",
    "cv.imshow(\"Dikdörtgen\",img)"
   ]
  },
  {
   "cell_type": "code",
   "execution_count": 8,
   "id": "a828b3b6-5a9e-4abc-b46f-c065996f8131",
   "metadata": {},
   "outputs": [],
   "source": [
    "# Metin ekleme\n",
    "cv.putText(img,\"Hello World\",(225,225),cv.FONT_HERSHEY_TRIPLEX,1.0,(255,0,0),thickness=2)\n",
    "cv.imshow(\"Text\",img)"
   ]
  },
  {
   "cell_type": "code",
   "execution_count": 9,
   "id": "10ba5527-ea66-42ec-bd29-3e599345f1a2",
   "metadata": {},
   "outputs": [],
   "source": [
    "# Bulanıklaştırma\n",
    "blur=cv.GaussianBlur(img,(7,7),cv.BORDER_DEFAULT)\n",
    "cv.imshow(\"Bulanık\",blur)"
   ]
  },
  {
   "cell_type": "code",
   "execution_count": 10,
   "id": "afa54ae8-b389-479f-92f2-288b59909a2f",
   "metadata": {},
   "outputs": [],
   "source": [
    "# Kenarları belirginleştirme\n",
    "canny=cv.Canny(img,125,175)\n",
    "cv.imshow(\"Canny\",canny)"
   ]
  },
  {
   "cell_type": "code",
   "execution_count": 11,
   "id": "25dda5f9-8bde-47a8-9dd6-17202366512d",
   "metadata": {},
   "outputs": [],
   "source": [
    "blank=np.zeros(img.shape[:2],dtype=\"uint8\")\n",
    "cv.imshow(\"Blank Image\",blank)"
   ]
  },
  {
   "cell_type": "code",
   "execution_count": 12,
   "id": "f86fb2e7-fbc8-4bd1-92e8-d709acb0d570",
   "metadata": {},
   "outputs": [],
   "source": [
    "mask=cv.circle(blank,(img.shape[1]//2+45,img.shape[0]//2),100,255,-1)\n",
    "cv.imshow(\"Mask\",mask)"
   ]
  },
  {
   "cell_type": "code",
   "execution_count": 13,
   "id": "4fc6be7b-e5f5-48b5-8092-15dfecc007c8",
   "metadata": {},
   "outputs": [],
   "source": [
    "Masked=cv.bitwise_and(img,img,mask=mask)\n",
    "cv.imshow(\"Masked\",Masked)"
   ]
  },
  {
   "cell_type": "code",
   "execution_count": 14,
   "id": "01b4333b-e013-496c-a037-9c56fe2e6098",
   "metadata": {},
   "outputs": [],
   "source": [
    "contours, hierarchies=cv.findContours(canny,cv.RETR_LIST,cv.CHAIN_APPROX_SIMPLE)\n",
    "cv.drawContours(img,contours,-1,(37,150,190),1)\n",
    "cv.imshow(\"Drawn Contours\",img)"
   ]
  },
  {
   "cell_type": "code",
   "execution_count": 15,
   "id": "5d21dc04-c31e-4b97-8046-0edea8222f73",
   "metadata": {},
   "outputs": [],
   "source": [
    "# Yüz tanıma"
   ]
  },
  {
   "cell_type": "code",
   "execution_count": 16,
   "id": "2e741ca2-76c8-486a-befd-3a1cc0410958",
   "metadata": {},
   "outputs": [],
   "source": [
    "# Haarcascade modelini yükle\n",
    "face_cascade = cv.CascadeClassifier(cv.data.haarcascades + 'haarcascade_frontalface_default.xml')"
   ]
  },
  {
   "cell_type": "code",
   "execution_count": 17,
   "id": "acd5cf38-6aae-4c78-9739-f1c3e6db3910",
   "metadata": {},
   "outputs": [],
   "source": [
    "# Görüntüyü oku\n",
    "image = cv.imread('group 2.jpg')  \n",
    "gray = cv.cvtColor(image, cv.COLOR_BGR2GRAY) # Gri tonlamaya çevir"
   ]
  },
  {
   "cell_type": "code",
   "execution_count": 18,
   "id": "65d8322f-d2d6-4ade-b60f-68dff168ba01",
   "metadata": {},
   "outputs": [],
   "source": [
    "# Yüzleri algıla\n",
    "faces = face_cascade.detectMultiScale(gray, scaleFactor=1.3, minNeighbors=5, minSize=(30, 30))"
   ]
  },
  {
   "cell_type": "code",
   "execution_count": 19,
   "id": "7fc032d6-a56a-4124-b04d-d1aad0d49cb6",
   "metadata": {},
   "outputs": [],
   "source": [
    "# Dikdörtgen çiz\n",
    "for (x, y, w, h) in faces:\n",
    "    cv.rectangle(image, (x, y), (x+w, y+h), (255, 0, 0), 2)"
   ]
  },
  {
   "cell_type": "code",
   "execution_count": 20,
   "id": "89e7f63e-e4f7-43d3-9f45-89b08166c742",
   "metadata": {},
   "outputs": [],
   "source": [
    "cv.imshow('Yüz Tanıma', image)"
   ]
  },
  {
   "cell_type": "code",
   "execution_count": 21,
   "id": "1b5e4d9b-e877-4b17-ad2e-6f35192ef925",
   "metadata": {},
   "outputs": [
    {
     "data": {
      "text/plain": [
       "-1"
      ]
     },
     "execution_count": 21,
     "metadata": {},
     "output_type": "execute_result"
    }
   ],
   "source": [
    "cv.waitKey(0)"
   ]
  },
  {
   "cell_type": "code",
   "execution_count": null,
   "id": "90971f33-73f7-4cd6-985d-0d5cb33e986b",
   "metadata": {},
   "outputs": [],
   "source": []
  }
 ],
 "metadata": {
  "kernelspec": {
   "display_name": "Python 3 (ipykernel)",
   "language": "python",
   "name": "python3"
  },
  "language_info": {
   "codemirror_mode": {
    "name": "ipython",
    "version": 3
   },
   "file_extension": ".py",
   "mimetype": "text/x-python",
   "name": "python",
   "nbconvert_exporter": "python",
   "pygments_lexer": "ipython3",
   "version": "3.12.4"
  }
 },
 "nbformat": 4,
 "nbformat_minor": 5
}
